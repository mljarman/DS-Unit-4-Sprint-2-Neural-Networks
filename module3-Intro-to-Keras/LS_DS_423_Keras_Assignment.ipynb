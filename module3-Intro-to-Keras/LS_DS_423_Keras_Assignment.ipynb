{
 "cells": [
  {
   "cell_type": "markdown",
   "metadata": {
    "colab_type": "text",
    "id": "pBQsZEJmubLs"
   },
   "source": [
    "<img align=\"left\" src=\"https://lever-client-logos.s3.amazonaws.com/864372b1-534c-480e-acd5-9711f850815c-1524247202159.png\" width=200>\n",
    "<br></br>\n",
    "\n",
    "# Neural Network Framework (Keras)\n",
    "\n",
    "## *Data Science Unit 4 Sprint 2 Assignmnet 3*\n",
    "\n",
    "## Use the Keras Library to build a Multi-Layer Perceptron Model on the Boston Housing dataset\n",
    "\n",
    "- The Boston Housing dataset comes with the Keras library so use Keras to import it into your notebook. \n",
    "- Normalize the data (all features should have roughly the same scale)\n",
    "- Import the type of model and layers that you will need from Keras.\n",
    "- Instantiate a model object and use `model.add()` to add layers to your model\n",
    "- Since this is a regression model you will have a single output node in the final layer.\n",
    "- Use activation functions that are appropriate for this task\n",
    "- Compile your model\n",
    "- Fit your model and report its accuracy in terms of Mean Squared Error\n",
    "- Use the history object that is returned from model.fit to make graphs of the model's loss or train/validation accuracies by epoch. \n",
    "- Run this same data through a linear regression model. Which achieves higher accuracy?\n",
    "- Do a little bit of feature engineering and see how that affects your neural network model. (you will need to change your model to accept more inputs)\n",
    "- After feature engineering, which model sees a greater accuracy boost due to the new features?"
   ]
  },
  {
   "cell_type": "code",
   "execution_count": 1,
   "metadata": {
    "colab": {},
    "colab_type": "code",
    "id": "8NLTAR87uYJ-"
   },
   "outputs": [],
   "source": [
    "# load dataset:\n",
    "from tensorflow.keras.datasets import boston_housing\n",
    "# train, test:\n",
    "(train_data, train_targets), (test_data, test_targets) = boston_housing.load_data()\n"
   ]
  },
  {
   "cell_type": "code",
   "execution_count": 48,
   "metadata": {},
   "outputs": [],
   "source": [
    "# normalize data:\n",
    "from sklearn.preprocessing import MinMaxScaler\n",
    "MinMax = MinMaxScaler()\n",
    "X = MinMax.fit_transform(train_data)\n",
    "X_test = MinMax.fit_transform(test_data)\n",
    "\n",
    "y = train_targets\n",
    "y_test = test_targets"
   ]
  },
  {
   "cell_type": "code",
   "execution_count": 49,
   "metadata": {},
   "outputs": [
    {
     "data": {
      "text/plain": [
       "(404, 13)"
      ]
     },
     "execution_count": 49,
     "metadata": {},
     "output_type": "execute_result"
    }
   ],
   "source": [
    "X.shape"
   ]
  },
  {
   "cell_type": "code",
   "execution_count": 19,
   "metadata": {},
   "outputs": [],
   "source": [
    "# import model and layers we'll need:\n",
    "from tensorflow.keras.models import Sequential\n",
    "from tensorflow.keras.layers import Dense, Flatten\n",
    "import numpy as np\n",
    "\n",
    "np.random.seed(812)"
   ]
  },
  {
   "cell_type": "code",
   "execution_count": 76,
   "metadata": {},
   "outputs": [
    {
     "name": "stdout",
     "output_type": "stream",
     "text": [
      "Model: \"Boston_Housing_1st_Attempt\"\n",
      "_________________________________________________________________\n",
      "Layer (type)                 Output Shape              Param #   \n",
      "=================================================================\n",
      "dense_60 (Dense)             (None, 50)                700       \n",
      "_________________________________________________________________\n",
      "dense_61 (Dense)             (None, 50)                2550      \n",
      "_________________________________________________________________\n",
      "dense_62 (Dense)             (None, 50)                2550      \n",
      "_________________________________________________________________\n",
      "dense_63 (Dense)             (None, 1)                 51        \n",
      "=================================================================\n",
      "Total params: 5,851\n",
      "Trainable params: 5,851\n",
      "Non-trainable params: 0\n",
      "_________________________________________________________________\n"
     ]
    }
   ],
   "source": [
    "# instantiate model:\n",
    "model = Sequential(name='Boston_Housing_1st_Attempt')\n",
    "\n",
    "# add layers to model:\n",
    "model.add(Dense(50, input_dim=13, activation=\"relu\"))\n",
    "model.add(Dense(50, activation=\"relu\"))\n",
    "model.add(Dense(50, activation=\"relu\"))\n",
    "# no activation function for output layer since regression problem:\n",
    "model.add(Dense(1))\n",
    "\n",
    "model.compile(loss='mean_squared_error', optimizer='adam')\n",
    "\n",
    "# inspect our new architecture\n",
    "model.summary()"
   ]
  },
  {
   "cell_type": "code",
   "execution_count": 77,
   "metadata": {},
   "outputs": [],
   "source": [
    "# fit the model:\n",
    "history = model.fit(X,y, epochs=50, verbose=False, validation_split=0, validation_data=(X_test, y_test))"
   ]
  },
  {
   "cell_type": "code",
   "execution_count": 78,
   "metadata": {},
   "outputs": [
    {
     "name": "stdout",
     "output_type": "stream",
     "text": [
      "404/404 [==============================] - 0s 25us/sample - loss: 14.8909\n"
     ]
    },
    {
     "data": {
      "text/plain": [
       "14.89094362164488"
      ]
     },
     "execution_count": 78,
     "metadata": {},
     "output_type": "execute_result"
    }
   ],
   "source": [
    "model.evaluate(X,y)"
   ]
  },
  {
   "cell_type": "code",
   "execution_count": 79,
   "metadata": {},
   "outputs": [
    {
     "data": {
      "text/plain": [
       "dict_keys(['loss', 'val_loss'])"
      ]
     },
     "execution_count": 79,
     "metadata": {},
     "output_type": "execute_result"
    }
   ],
   "source": [
    "# use history object to visualize train vs test losses:\n",
    "history.history.keys()"
   ]
  },
  {
   "cell_type": "code",
   "execution_count": 81,
   "metadata": {},
   "outputs": [
    {
     "data": {
      "image/png": "[encoded data removed]",
      "text/plain": [
       "<Figure size 432x288 with 1 Axes>"
      ]
     },
     "metadata": {
      "needs_background": "light"
     },
     "output_type": "display_data"
    }
   ],
   "source": [
    "import matplotlib.pyplot as plt\n",
    "plt.plot(history.history['loss'])\n",
    "plt.plot(history.history['val_loss'])\n",
    "plt.title('model loss')\n",
    "plt.ylabel('loss')\n",
    "plt.xlabel('epoch')\n",
    "plt.legend(['train', 'test'], loc='upper right')\n",
    "plt.show()"
   ]
  },
  {
   "cell_type": "code",
   "execution_count": 82,
   "metadata": {},
   "outputs": [
    {
     "data": {
      "text/plain": [
       "LinearRegression(copy_X=True, fit_intercept=True, n_jobs=None, normalize=False)"
      ]
     },
     "execution_count": 82,
     "metadata": {},
     "output_type": "execute_result"
    }
   ],
   "source": [
    "# compare with linear regression:\n",
    "from sklearn.linear_model import LinearRegression\n",
    "model2 = LinearRegression()\n",
    "model2.fit(X,y)"
   ]
  },
  {
   "cell_type": "code",
   "execution_count": 85,
   "metadata": {},
   "outputs": [
    {
     "name": "stdout",
     "output_type": "stream",
     "text": [
      "training data linear regression: 22.00480083834814\n",
      "training data neural network: 14.890943340614426\n"
     ]
    }
   ],
   "source": [
    "from sklearn.metrics import mean_squared_error\n",
    "print('training data linear regression:', mean_squared_error(model2.predict(X), y))\n",
    "print('training data neural network:', mean_squared_error(model.predict(X), y))"
   ]
  },
  {
   "cell_type": "markdown",
   "metadata": {},
   "source": [
    "The neural network's MSE was 14.89 and the linear regression's was 22.00 on the training data so in this case the neural network model did better, now let's see on the test data:"
   ]
  },
  {
   "cell_type": "code",
   "execution_count": 88,
   "metadata": {},
   "outputs": [
    {
     "name": "stdout",
     "output_type": "stream",
     "text": [
      "test data linear regression: 40.60145446671504\n",
      "test data neural network: 41.4603196042401\n"
     ]
    }
   ],
   "source": [
    "print('test data linear regression:', mean_squared_error(model2.predict(X_test), y_test))\n",
    "print('test data neural network:', mean_squared_error(model.predict(X_test), y_test))"
   ]
  },
  {
   "cell_type": "markdown",
   "metadata": {},
   "source": [
    "For test data, they were about even. Since the training data performed better on both models there may have been overfitting."
   ]
  },
  {
   "cell_type": "markdown",
   "metadata": {
    "colab_type": "text",
    "id": "SfcFnOONyuNm"
   },
   "source": [
    "## Use the Keras Library to build an image recognition network using the Fashion-MNIST dataset (also comes with keras)\n",
    "\n",
    "- Load and preprocess the image data similar to how we preprocessed the MNIST data in class.\n",
    "- Make sure to one-hot encode your category labels\n",
    "- Make sure to have your final layer have as many nodes as the number of classes that you want to predict.\n",
    "- Try different hyperparameters. What is the highest accuracy that you are able to achieve.\n",
    "- Use the history object that is returned from model.fit to make graphs of the model's loss or train/validation accuracies by epoch. \n",
    "- Remember that neural networks fall prey to randomness so you may need to run your model multiple times (or use Cross Validation) in order to tell if a change to a hyperparameter is truly producing better results."
   ]
  },
  {
   "cell_type": "code",
   "execution_count": 21,
   "metadata": {
    "colab": {},
    "colab_type": "code",
    "id": "szi6-IpuzaH1"
   },
   "outputs": [],
   "source": [
    "# load the data:\n",
    "from tensorflow.keras.datasets import fashion_mnist\n",
    "from tensorflow.keras.utils import to_categorical\n",
    "import keras"
   ]
  },
  {
   "cell_type": "code",
   "execution_count": 22,
   "metadata": {},
   "outputs": [],
   "source": [
    "# train and test sets:\n",
    "(x_train, y_train), (x_test, y_test) = fashion_mnist.load_data()"
   ]
  },
  {
   "cell_type": "code",
   "execution_count": 23,
   "metadata": {},
   "outputs": [],
   "source": [
    "# input image dimensions:\n",
    "img_rows, img_cols = 28, 28\n",
    "\n",
    "x_train = x_train.reshape(x_train.shape[0], img_rows * img_cols)\n",
    "x_test = x_test.reshape(x_test.shape[0], img_rows * img_cols)"
   ]
  },
  {
   "cell_type": "code",
   "execution_count": 24,
   "metadata": {},
   "outputs": [],
   "source": [
    "# normalize data:\n",
    "x_train = x_train / 255\n",
    "x_test = x_test / 255"
   ]
  },
  {
   "cell_type": "code",
   "execution_count": 66,
   "metadata": {},
   "outputs": [
    {
     "data": {
      "text/plain": [
       "(10000, 10, 10, 10)"
      ]
     },
     "execution_count": 66,
     "metadata": {},
     "output_type": "execute_result"
    }
   ],
   "source": [
    "# make outputs categorical:\n",
    "y_train = keras.utils.to_categorical(y_train, 10)\n",
    "y_test = keras.utils.to_categorical(y_test, 10)\n",
    "y_test.shape"
   ]
  },
  {
   "cell_type": "code",
   "execution_count": 53,
   "metadata": {},
   "outputs": [
    {
     "name": "stdout",
     "output_type": "stream",
     "text": [
      "Model: \"MNIST_Fashion_1st_Attempt\"\n",
      "_________________________________________________________________\n",
      "Layer (type)                 Output Shape              Param #   \n",
      "=================================================================\n",
      "dense_24 (Dense)             (None, 100)               78500     \n",
      "_________________________________________________________________\n",
      "dense_25 (Dense)             (None, 100)               10100     \n",
      "_________________________________________________________________\n",
      "dense_26 (Dense)             (None, 100)               10100     \n",
      "_________________________________________________________________\n",
      "dense_27 (Dense)             (None, 10)                1010      \n",
      "=================================================================\n",
      "Total params: 99,710\n",
      "Trainable params: 99,710\n",
      "Non-trainable params: 0\n",
      "_________________________________________________________________\n"
     ]
    }
   ],
   "source": [
    "# instantiate model:\n",
    "model2 = Sequential(name='MNIST_Fashion_1st_Attempt')\n",
    "\n",
    "# add layers to model:\n",
    "model2.add(Dense(100, input_dim=784, activation=\"relu\"))\n",
    "model2.add(Dense(100, activation=\"relu\"))\n",
    "model2.add(Dense(100, activation=\"relu\"))\n",
    "# softmax activation function since multi-class classification problem:\n",
    "model2.add(Dense(10, activation=\"softmax\"))\n",
    "\n",
    "model2.compile(optimizer='adam',\n",
    "              loss='categorical_crossentropy',\n",
    "              metrics=['accuracy'])\n",
    "\n",
    "\n",
    "# inspect our new architecture\n",
    "model2.summary()"
   ]
  },
  {
   "cell_type": "code",
   "execution_count": 54,
   "metadata": {},
   "outputs": [
    {
     "name": "stdout",
     "output_type": "stream",
     "text": [
      "Train on 60000 samples, validate on 10000 samples\n",
      "Epoch 1/50\n",
      "60000/60000 [==============================] - 3s 58us/sample - loss: 0.4931 - acc: 0.8212 - val_loss: 0.4117 - val_acc: 0.8543\n",
      "Epoch 2/50\n",
      "60000/60000 [==============================] - 3s 57us/sample - loss: 0.3661 - acc: 0.8665 - val_loss: 0.4020 - val_acc: 0.8508\n",
      "Epoch 3/50\n",
      "60000/60000 [==============================] - 3s 51us/sample - loss: 0.3336 - acc: 0.8765 - val_loss: 0.3660 - val_acc: 0.8689\n",
      "Epoch 4/50\n",
      "60000/60000 [==============================] - 3s 51us/sample - loss: 0.3099 - acc: 0.8847 - val_loss: 0.3517 - val_acc: 0.8716\n",
      "Epoch 5/50\n",
      "60000/60000 [==============================] - 3s 58us/sample - loss: 0.2945 - acc: 0.8904 - val_loss: 0.3622 - val_acc: 0.8700\n",
      "Epoch 6/50\n",
      "60000/60000 [==============================] - 3s 50us/sample - loss: 0.2774 - acc: 0.8951 - val_loss: 0.3564 - val_acc: 0.8731\n",
      "Epoch 7/50\n",
      "60000/60000 [==============================] - 3s 50us/sample - loss: 0.2689 - acc: 0.8989 - val_loss: 0.3602 - val_acc: 0.8703\n",
      "Epoch 8/50\n",
      "60000/60000 [==============================] - 4s 59us/sample - loss: 0.2568 - acc: 0.9028 - val_loss: 0.3366 - val_acc: 0.8806\n",
      "Epoch 9/50\n",
      "60000/60000 [==============================] - 3s 56us/sample - loss: 0.2466 - acc: 0.9059 - val_loss: 0.3529 - val_acc: 0.8846\n",
      "Epoch 10/50\n",
      "60000/60000 [==============================] - 3s 52us/sample - loss: 0.2405 - acc: 0.9096 - val_loss: 0.3324 - val_acc: 0.8837\n",
      "Epoch 11/50\n",
      "60000/60000 [==============================] - 3s 54us/sample - loss: 0.2313 - acc: 0.9126 - val_loss: 0.3406 - val_acc: 0.8811\n",
      "Epoch 12/50\n",
      "60000/60000 [==============================] - 3s 54us/sample - loss: 0.2232 - acc: 0.9156 - val_loss: 0.3388 - val_acc: 0.8831\n",
      "Epoch 13/50\n",
      "60000/60000 [==============================] - 4s 62us/sample - loss: 0.2175 - acc: 0.9157 - val_loss: 0.3579 - val_acc: 0.8850\n",
      "Epoch 14/50\n",
      "60000/60000 [==============================] - 3s 54us/sample - loss: 0.2100 - acc: 0.9200 - val_loss: 0.3581 - val_acc: 0.8791\n",
      "Epoch 15/50\n",
      "60000/60000 [==============================] - 3s 56us/sample - loss: 0.2048 - acc: 0.9212 - val_loss: 0.3385 - val_acc: 0.8873\n",
      "Epoch 16/50\n",
      "60000/60000 [==============================] - 4s 58us/sample - loss: 0.2007 - acc: 0.9233 - val_loss: 0.3925 - val_acc: 0.8817\n",
      "Epoch 17/50\n",
      "60000/60000 [==============================] - 3s 51us/sample - loss: 0.1951 - acc: 0.9252 - val_loss: 0.3745 - val_acc: 0.8841\n",
      "Epoch 18/50\n",
      "60000/60000 [==============================] - 3s 50us/sample - loss: 0.1906 - acc: 0.9267 - val_loss: 0.3623 - val_acc: 0.8824\n",
      "Epoch 19/50\n",
      "60000/60000 [==============================] - 4s 60us/sample - loss: 0.1845 - acc: 0.9283 - val_loss: 0.3937 - val_acc: 0.8817\n",
      "Epoch 20/50\n",
      "60000/60000 [==============================] - 3s 55us/sample - loss: 0.1802 - acc: 0.9304 - val_loss: 0.3932 - val_acc: 0.8817\n",
      "Epoch 21/50\n",
      "60000/60000 [==============================] - 3s 52us/sample - loss: 0.1755 - acc: 0.9329 - val_loss: 0.3831 - val_acc: 0.8883\n",
      "Epoch 22/50\n",
      "60000/60000 [==============================] - 3s 55us/sample - loss: 0.1738 - acc: 0.9330 - val_loss: 0.3763 - val_acc: 0.8883\n",
      "Epoch 23/50\n",
      "60000/60000 [==============================] - 3s 54us/sample - loss: 0.1664 - acc: 0.9359 - val_loss: 0.3963 - val_acc: 0.8905\n",
      "Epoch 24/50\n",
      "60000/60000 [==============================] - 3s 51us/sample - loss: 0.1665 - acc: 0.9356 - val_loss: 0.4144 - val_acc: 0.8859\n",
      "Epoch 25/50\n",
      "60000/60000 [==============================] - 3s 55us/sample - loss: 0.1611 - acc: 0.9380 - val_loss: 0.4236 - val_acc: 0.8852\n",
      "Epoch 26/50\n",
      "60000/60000 [==============================] - 3s 54us/sample - loss: 0.1568 - acc: 0.9386 - val_loss: 0.4328 - val_acc: 0.8855\n",
      "Epoch 27/50\n",
      "60000/60000 [==============================] - 4s 61us/sample - loss: 0.1549 - acc: 0.9396 - val_loss: 0.4520 - val_acc: 0.8841\n",
      "Epoch 28/50\n",
      "60000/60000 [==============================] - 3s 51us/sample - loss: 0.1523 - acc: 0.9416 - val_loss: 0.4717 - val_acc: 0.8823\n",
      "Epoch 29/50\n",
      "60000/60000 [==============================] - 3s 53us/sample - loss: 0.1485 - acc: 0.9433 - val_loss: 0.4035 - val_acc: 0.8901\n",
      "Epoch 30/50\n",
      "60000/60000 [==============================] - 3s 53us/sample - loss: 0.1471 - acc: 0.9436 - val_loss: 0.4332 - val_acc: 0.8871\n",
      "Epoch 31/50\n",
      "60000/60000 [==============================] - 4s 59us/sample - loss: 0.1411 - acc: 0.9447 - val_loss: 0.4294 - val_acc: 0.8872\n",
      "Epoch 32/50\n",
      "60000/60000 [==============================] - 3s 56us/sample - loss: 0.1396 - acc: 0.9452 - val_loss: 0.4570 - val_acc: 0.8828\n",
      "Epoch 33/50\n",
      "60000/60000 [==============================] - 3s 56us/sample - loss: 0.1393 - acc: 0.9474 - val_loss: 0.4664 - val_acc: 0.8861\n",
      "Epoch 34/50\n",
      "60000/60000 [==============================] - 4s 68us/sample - loss: 0.1365 - acc: 0.9480 - val_loss: 0.4612 - val_acc: 0.8896\n",
      "Epoch 35/50\n",
      "60000/60000 [==============================] - 3s 55us/sample - loss: 0.1324 - acc: 0.9483 - val_loss: 0.4881 - val_acc: 0.8799\n",
      "Epoch 36/50\n",
      "60000/60000 [==============================] - 3s 50us/sample - loss: 0.1285 - acc: 0.9490 - val_loss: 0.5405 - val_acc: 0.8840\n",
      "Epoch 37/50\n",
      "60000/60000 [==============================] - 4s 59us/sample - loss: 0.1283 - acc: 0.9502 - val_loss: 0.4953 - val_acc: 0.8879\n",
      "Epoch 38/50\n",
      "60000/60000 [==============================] - 3s 54us/sample - loss: 0.1319 - acc: 0.9493 - val_loss: 0.4904 - val_acc: 0.8891\n",
      "Epoch 39/50\n",
      "60000/60000 [==============================] - 3s 52us/sample - loss: 0.1227 - acc: 0.9516 - val_loss: 0.5134 - val_acc: 0.8852\n",
      "Epoch 40/50\n",
      "60000/60000 [==============================] - 3s 52us/sample - loss: 0.1212 - acc: 0.9524 - val_loss: 0.5700 - val_acc: 0.8860\n",
      "Epoch 41/50\n",
      "60000/60000 [==============================] - 3s 54us/sample - loss: 0.1240 - acc: 0.9525 - val_loss: 0.5196 - val_acc: 0.8809\n",
      "Epoch 42/50\n",
      "60000/60000 [==============================] - 3s 53us/sample - loss: 0.1170 - acc: 0.9541 - val_loss: 0.5377 - val_acc: 0.8914\n",
      "Epoch 43/50\n",
      "60000/60000 [==============================] - 3s 55us/sample - loss: 0.1198 - acc: 0.9543 - val_loss: 0.5288 - val_acc: 0.8814\n",
      "Epoch 44/50\n",
      "60000/60000 [==============================] - 3s 54us/sample - loss: 0.1155 - acc: 0.9553 - val_loss: 0.5633 - val_acc: 0.8879\n",
      "Epoch 45/50\n",
      "60000/60000 [==============================] - 4s 61us/sample - loss: 0.1163 - acc: 0.9556 - val_loss: 0.5901 - val_acc: 0.8869\n",
      "Epoch 46/50\n",
      "60000/60000 [==============================] - 3s 55us/sample - loss: 0.1131 - acc: 0.9562 - val_loss: 0.5522 - val_acc: 0.8892\n",
      "Epoch 47/50\n",
      "60000/60000 [==============================] - 3s 55us/sample - loss: 0.1131 - acc: 0.9562 - val_loss: 0.5298 - val_acc: 0.8911\n",
      "Epoch 48/50\n",
      "60000/60000 [==============================] - 3s 55us/sample - loss: 0.1099 - acc: 0.9576 - val_loss: 0.5597 - val_acc: 0.8860\n",
      "Epoch 49/50\n",
      "60000/60000 [==============================] - 4s 59us/sample - loss: 0.1101 - acc: 0.9586 - val_loss: 0.6244 - val_acc: 0.8842\n",
      "Epoch 50/50\n",
      "60000/60000 [==============================] - 3s 58us/sample - loss: 0.1068 - acc: 0.9587 - val_loss: 0.6090 - val_acc: 0.8816\n"
     ]
    }
   ],
   "source": [
    "# fit the model:\n",
    "history = model2.fit(x_train,y_train, epochs=50, verbose=True, validation_split=0, validation_data=(x_test, y_test))"
   ]
  },
  {
   "cell_type": "code",
   "execution_count": 55,
   "metadata": {},
   "outputs": [
    {
     "name": "stdout",
     "output_type": "stream",
     "text": [
      "60000/60000 [==============================] - 2s 26us/sample - loss: 0.1253 - acc: 0.9540\n"
     ]
    },
    {
     "data": {
      "text/plain": [
       "[0.12528063587676733, 0.9539833]"
      ]
     },
     "execution_count": 55,
     "metadata": {},
     "output_type": "execute_result"
    }
   ],
   "source": [
    "model2.evaluate(x_train,y_train)"
   ]
  },
  {
   "cell_type": "code",
   "execution_count": 56,
   "metadata": {},
   "outputs": [
    {
     "name": "stdout",
     "output_type": "stream",
     "text": [
      "10000/10000 [==============================] - 0s 30us/sample - loss: 0.6090 - acc: 0.8816\n"
     ]
    },
    {
     "data": {
      "text/plain": [
       "[0.6089623772591353, 0.8816]"
      ]
     },
     "execution_count": 56,
     "metadata": {},
     "output_type": "execute_result"
    }
   ],
   "source": [
    "model2.evaluate(x_test,y_test)"
   ]
  },
  {
   "cell_type": "code",
   "execution_count": 57,
   "metadata": {},
   "outputs": [
    {
     "data": {
      "text/plain": [
       "dict_keys(['loss', 'acc', 'val_loss', 'val_acc'])"
      ]
     },
     "execution_count": 57,
     "metadata": {},
     "output_type": "execute_result"
    }
   ],
   "source": [
    "# use history object to visualize train vs test losses:\n",
    "history.history.keys()"
   ]
  },
  {
   "cell_type": "code",
   "execution_count": 58,
   "metadata": {},
   "outputs": [
    {
     "data": {
      "image/png": "[encoded data removed]",
      "text/plain": [
       "<Figure size 432x288 with 1 Axes>"
      ]
     },
     "metadata": {
      "needs_background": "light"
     },
     "output_type": "display_data"
    }
   ],
   "source": [
    "import matplotlib.pyplot as plt\n",
    "plt.plot(history.history['loss'])\n",
    "plt.plot(history.history['val_loss'])\n",
    "plt.title('model loss')\n",
    "plt.ylabel('loss')\n",
    "plt.xlabel('epoch')\n",
    "plt.legend(['train', 'test'], loc='upper right')\n",
    "plt.show()"
   ]
  },
  {
   "cell_type": "code",
   "execution_count": 59,
   "metadata": {},
   "outputs": [
    {
     "data": {
      "image/png": "[encoded data removed]",
      "text/plain": [
       "<Figure size 432x288 with 1 Axes>"
      ]
     },
     "metadata": {
      "needs_background": "light"
     },
     "output_type": "display_data"
    }
   ],
   "source": [
    "# Plot training & validation accuracy values\n",
    "plt.plot(history.history['acc'])\n",
    "plt.plot(history.history['val_acc'])\n",
    "plt.title('Model accuracy')\n",
    "plt.ylabel('Accuracy')\n",
    "plt.xlabel('Epoch')\n",
    "plt.legend(['Train', 'Test'], loc='upper left')\n",
    "plt.show()"
   ]
  },
  {
   "cell_type": "markdown",
   "metadata": {
    "colab_type": "text",
    "id": "zv_3xNMjzdLI"
   },
   "source": [
    "## Stretch Goals:\n",
    "\n",
    "- Use Hyperparameter Tuning to make the accuracy of your models as high as possible. (error as low as possible)\n",
    "- Use Cross Validation techniques to get more consistent results with your model.\n",
    "- Use GridSearchCV to try different combinations of hyperparameters. \n",
    "- Start looking into other types of Keras layers for CNNs and RNNs maybe try and build a CNN model for fashion-MNIST to see how the results compare."
   ]
  }
 ],
 "metadata": {
  "colab": {
   "name": "LS_DS_433_Keras_Assignment.ipynb",
   "provenance": [],
   "version": "0.3.2"
  },
  "kernelspec": {
   "display_name": "U4-S2-NNs (python 3.7)",
   "language": "python",
   "name": "u4-s2-neural-networks"
  },
  "language_info": {
   "codemirror_mode": {
    "name": "ipython",
    "version": 3
   },
   "file_extension": ".py",
   "mimetype": "text/x-python",
   "name": "python",
   "nbconvert_exporter": "python",
   "pygments_lexer": "ipython3",
   "version": "3.7.0"
  }
 },
 "nbformat": 4,
 "nbformat_minor": 4
}
